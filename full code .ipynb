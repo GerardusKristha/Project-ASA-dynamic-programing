{
 "cells": [
  {
   "cell_type": "code",
   "execution_count": 1,
   "metadata": {},
   "outputs": [
    {
     "name": "stdout",
     "output_type": "stream",
     "text": [
      "Jarak terpendek: 1300\n",
      "Titik Tiang: [1, 2, 8, 9, 10, 11, 12, 13]\n"
     ]
    }
   ],
   "source": [
    "import math\n",
    "\n",
    "def shortest_path(graph, start, destination):\n",
    "    temp_distance = [math.inf] * len(graph)\n",
    "    temp_distance[start] = 0\n",
    "    prev = [-1] * len(graph)\n",
    "\n",
    "    for i in range(start, destination + 1):\n",
    "        for j in range(i + 1, destination + 1):\n",
    "            if graph[i][j] != 0:\n",
    "                if temp_distance[i] + graph[i][j] < temp_distance[j]:\n",
    "                    temp_distance[j] = temp_distance[i] + graph[i][j]\n",
    "                    prev[j] = i\n",
    "\n",
    "    path = []\n",
    "    current = destination\n",
    "    while current != -1:\n",
    "        path.append(current+1)\n",
    "        current = prev[current]\n",
    "    path.reverse()\n",
    "\n",
    "    return temp_distance[destination], path\n",
    "\n",
    "graph = [[0, 500, 0, 0, 0, 0, 0, 0, 0, 0, 0, 0, 0], \n",
    "         [500, 0, 500, 0, 0, 0, 0, 270, 0, 0, 0, 0, 0], \n",
    "         [0, 500, 0, 500, 0, 200, 250, 0, 0, 0, 0, 0, 0], \n",
    "         [0, 0, 500, 0, 300, 200, 0, 0, 0, 0, 0, 0, 0], \n",
    "         [0, 0, 0, 300, 0, 350, 0, 0, 0, 0, 0, 0, 0], \n",
    "         [0, 0, 200, 200, 350, 0, 0, 0, 0, 0, 180, 0, 0], \n",
    "         [0, 0, 250, 0, 0, 0, 0, 0, 0, 200, 0, 0, 0], \n",
    "         [0, 270, 0, 0, 0, 0, 0, 0, 210, 0, 0, 0, 0],\n",
    "         [0, 0, 0, 0, 0, 0, 0, 210, 0, 70, 0, 0, 0], \n",
    "         [0, 0, 0, 0, 0, 0, 200, 0, 70, 0, 120, 0, 0], \n",
    "         [0, 0, 0, 0, 0, 180, 0, 0, 0, 120, 0, 50, 0], \n",
    "         [0, 0, 0, 0, 0, 0, 0, 0, 0, 0, 50, 0, 80], \n",
    "         [0, 0, 0, 0, 0, 0, 0, 0, 0, 0, 0, 80, 0]]\n",
    "\n",
    "start = 1\n",
    "end = 13\n",
    "# indeks tiang dimulai dari 0 sampai 12, jika sesuai dengan penamaan tiang adalah di mulai dari 1 hingga 13\n",
    "source = start-1\n",
    "destination = end-1\n",
    "\n",
    "shortest_distance, shortest_path = shortest_path(graph, source, destination)\n",
    "print(\"Jarak terpendek:\", shortest_distance)\n",
    "print(\"Titik Tiang:\", shortest_path)"
   ]
  }
 ],
 "metadata": {
  "kernelspec": {
   "display_name": "Python 3",
   "language": "python",
   "name": "python3"
  },
  "language_info": {
   "codemirror_mode": {
    "name": "ipython",
    "version": 3
   },
   "file_extension": ".py",
   "mimetype": "text/x-python",
   "name": "python",
   "nbconvert_exporter": "python",
   "pygments_lexer": "ipython3",
   "version": "3.11.0"
  },
  "orig_nbformat": 4
 },
 "nbformat": 4,
 "nbformat_minor": 2
}
