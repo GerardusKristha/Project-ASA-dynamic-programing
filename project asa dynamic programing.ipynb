{
 "cells": [
  {
   "cell_type": "code",
   "execution_count": 57,
   "metadata": {},
   "outputs": [],
   "source": [
    "import csv\n",
    "\n",
    "def read_csv_to_matrix(file_path):\n",
    "    matrix = []\n",
    "    with open(file_path, 'r') as file:\n",
    "        csv_reader = csv.reader(file,delimiter=';')\n",
    "        for row in csv_reader:\n",
    "            matrix.append([int(value) for value in row])\n",
    "    return matrix\n"
   ]
  },
  {
   "cell_type": "code",
   "execution_count": 58,
   "metadata": {},
   "outputs": [
    {
     "name": "stdout",
     "output_type": "stream",
     "text": [
      "[[0, 500, 0, 0, 0, 0, 0, 0, 0, 0, 0, 0, 0], [500, 0, 500, 0, 0, 0, 0, 270, 0, 0, 0, 0, 0], [0, 500, 0, 500, 0, 200, 250, 0, 0, 0, 0, 0, 0], [0, 0, 500, 0, 300, 200, 0, 0, 0, 0, 0, 0, 0], [0, 0, 0, 300, 0, 350, 0, 0, 0, 0, 0, 0, 0], [0, 0, 200, 200, 350, 0, 0, 0, 0, 0, 180, 0, 0], [0, 0, 250, 0, 0, 0, 0, 0, 0, 200, 0, 0, 0], [0, 270, 0, 0, 0, 0, 0, 0, 210, 0, 0, 0, 0], [0, 0, 0, 0, 0, 0, 0, 210, 0, 70, 0, 0, 0], [0, 0, 0, 0, 0, 0, 200, 0, 70, 0, 120, 0, 0], [0, 0, 0, 0, 0, 180, 0, 0, 0, 120, 0, 50, 0], [0, 0, 0, 0, 0, 0, 0, 0, 0, 0, 50, 0, 80], [0, 0, 0, 0, 0, 0, 0, 0, 0, 0, 0, 80, 0]]\n"
     ]
    }
   ],
   "source": [
    "graph= read_csv_to_matrix(\"E:\\kuliah\\semester 4\\ASA\\Project akhir\\graf proyek revisi.csv\")\n"
   ]
  },
  {
   "cell_type": "code",
   "execution_count": 55,
   "metadata": {},
   "outputs": [],
   "source": [
    "import math\n",
    "\n",
    "def shortest_path(graph, start, destination):\n",
    "    temp_distance = [math.inf] * len(graph)\n",
    "    temp_distance[start] = 0\n",
    "    prev = [-1] * len(graph)\n",
    "\n",
    "    for i in range(start, destination + 1):\n",
    "        for j in range(i + 1, destination + 1):\n",
    "            if graph[i][j] != 0:\n",
    "                if temp_distance[i] + graph[i][j] < temp_distance[j]:\n",
    "                    temp_distance[j] = temp_distance[i] + graph[i][j]\n",
    "                    prev[j] = i\n",
    "\n",
    "    path = []\n",
    "    current = destination\n",
    "    while current != -1:\n",
    "        path.append(current+1)\n",
    "        current = prev[current]\n",
    "    path.reverse()\n",
    "\n",
    "    return temp_distance[destination], path\n"
   ]
  },
  {
   "cell_type": "code",
   "execution_count": 56,
   "metadata": {},
   "outputs": [
    {
     "name": "stdout",
     "output_type": "stream",
     "text": [
      "Jarak terpendek: 1300\n",
      "Titik Tiang: [1, 2, 8, 9, 10, 11, 12, 13]\n"
     ]
    }
   ],
   "source": [
    "startVertex = int(input(\"Masukkan Titik Awal : \"))-1\n",
    "destinationVertex = int(input(\"Masukkan Titik Tujuan : \"))-1\n",
    "\n",
    "graph= read_csv_to_matrix(\"E:\\kuliah\\semester 4\\ASA\\Project akhir\\graf proyek revisi.csv\")\n",
    "\n",
    "source = startVertex\n",
    "destination = destinationVertex\n",
    "\n",
    "shortest_distance, shortest_path = shortest_path(graph, source, destination)\n",
    "print(\"Jarak terpendek:\", shortest_distance)\n",
    "print(\"Titik Tiang:\", shortest_path)"
   ]
  }
 ],
 "metadata": {
  "kernelspec": {
   "display_name": "Python 3",
   "language": "python",
   "name": "python3"
  },
  "language_info": {
   "codemirror_mode": {
    "name": "ipython",
    "version": 3
   },
   "file_extension": ".py",
   "mimetype": "text/x-python",
   "name": "python",
   "nbconvert_exporter": "python",
   "pygments_lexer": "ipython3",
   "version": "3.11.0"
  },
  "orig_nbformat": 4
 },
 "nbformat": 4,
 "nbformat_minor": 2
}
